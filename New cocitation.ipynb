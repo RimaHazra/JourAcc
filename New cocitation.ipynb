{
 "cells": [
  {
   "cell_type": "code",
   "execution_count": 1,
   "metadata": {
    "collapsed": true
   },
   "outputs": [],
   "source": [
    "import numpy as np\n",
    "import pandas as pd\n",
    "import networkx as nx"
   ]
  },
  {
   "cell_type": "code",
   "execution_count": 2,
   "metadata": {
    "collapsed": true
   },
   "outputs": [],
   "source": [
    "df = pd.read_csv('Final_dataset.csv')\n",
    "y = df['author_id'].unique()\n",
    "l = []\n",
    "for i in y:\n",
    "    df1 = df[df['author_id']==i]\n",
    "    l.append(min(df1['year']))\n",
    "    \n",
    "d = {\n",
    "    'author_id':y,\n",
    "    'first_paper':l\n",
    "}\n",
    "df1 = pd.DataFrame(d)\n",
    "df1 = pd.merge(df1,df)\n",
    "df1['paper_diff'] = df1['year'] -  df1['first_paper']\n",
    "first3 = df1[df1['paper_diff']<3]\n",
    "first5 = df1[df1['paper_diff']<5]"
   ]
  },
  {
   "cell_type": "code",
   "execution_count": 3,
   "metadata": {},
   "outputs": [
    {
     "data": {
      "text/plain": [
       "author_id                 float64\n",
       "first_paper               float64\n",
       "accepted                  float64\n",
       "citations                 float64\n",
       "doc_id                    float64\n",
       "rounds                    float64\n",
       "year                      float64\n",
       "degree_centrality         float64\n",
       "page_rank                 float64\n",
       "cluster_coeff             float64\n",
       "closeness_centrality      float64\n",
       "betweenness_centrality    float64\n",
       "team_size                   int64\n",
       "mean_citation             float64\n",
       "Author_Reputation         float64\n",
       "diff                       object\n",
       "Sentiment                 float64\n",
       "paper_diff                float64\n",
       "dtype: object"
      ]
     },
     "execution_count": 3,
     "metadata": {},
     "output_type": "execute_result"
    }
   ],
   "source": [
    "first3.dtypes"
   ]
  },
  {
   "cell_type": "code",
   "execution_count": 3,
   "metadata": {
    "collapsed": true
   },
   "outputs": [],
   "source": [
    "l1 = first3['doc_id'].unique()\n",
    "\n",
    "citer =[]\n",
    "cited = []\n",
    "with open('docidCitesDocid.txt') as infile:\n",
    "    for line in infile:\n",
    "        a = line.split()\n",
    "        if int(a[0]) in l1:\n",
    "            if int(a[1]) in l1:\n",
    "                citer.append(a[0])\n",
    "                cited.append(a[1])\n",
    "        \n",
    "d = {'citer' : citer,\n",
    "     'cited' : cited}\n",
    "df = pd.DataFrame(d)"
   ]
  },
  {
   "cell_type": "code",
   "execution_count": 4,
   "metadata": {
    "collapsed": true
   },
   "outputs": [],
   "source": [
    "doc =[]\n",
    "auth = []\n",
    "with open('DocIdAuthorId.txt') as infile:\n",
    "    for line in infile:\n",
    "        a = line.split()\n",
    "        doc.append(a[0])\n",
    "        auth.append(a[1])\n",
    "        \n",
    "d = {'citer' : doc,\n",
    "     'citer_author' : auth}\n",
    "df1 = pd.DataFrame(d)\n",
    "df = pd.merge(df,df1)\n",
    "\n",
    "doc =[]\n",
    "auth = []\n",
    "with open('DocIdAuthorId.txt') as infile:\n",
    "    for line in infile:\n",
    "        a = line.split()\n",
    "        doc.append(a[0])\n",
    "        auth.append(a[1])\n",
    "        \n",
    "d = {'cited' : doc,\n",
    "     'cited_author' : auth}\n",
    "df1 = pd.DataFrame(d)\n",
    "df = pd.merge(df,df1)\n",
    "df = df[['citer_author','cited_author']]\n",
    "\n",
    "df = df.drop_duplicates()"
   ]
  },
  {
   "cell_type": "code",
   "execution_count": 5,
   "metadata": {
    "collapsed": true
   },
   "outputs": [],
   "source": [
    "G = nx.DiGraph()\n",
    "for i,r in df.iterrows():\n",
    "    G.add_edge(r['citer_author'],r['cited_author'])"
   ]
  },
  {
   "cell_type": "code",
   "execution_count": 6,
   "metadata": {
    "collapsed": true
   },
   "outputs": [],
   "source": [
    "G.remove_edges_from(G.selfloop_edges())\n",
    "core = nx.algorithms.core_number(G)\n",
    "y = first3['author_id'].unique()\n",
    "\n",
    "cn = []\n",
    "for i in y:\n",
    "    try:\n",
    "        cn.append(core[str(i)])\n",
    "    except:\n",
    "        cn.append(0)\n",
    "        \n",
    "d = {\n",
    "    'author_id':y,\n",
    "    'core':cn\n",
    "}\n",
    "\n",
    "core = pd.DataFrame(d)\n",
    "core.to_csv('author_core_cocit.csv',index=False)"
   ]
  },
  {
   "cell_type": "code",
   "execution_count": 7,
   "metadata": {
    "collapsed": true
   },
   "outputs": [],
   "source": [
    "df.to_csv('Cocitation_network.csv',index=False)"
   ]
  },
  {
   "cell_type": "code",
   "execution_count": 8,
   "metadata": {
    "collapsed": true
   },
   "outputs": [],
   "source": [
    "\n",
    "pagerank = nx.pagerank(G)\n",
    "id = pagerank.keys()\n",
    "pr = pagerank.values()\n",
    "d = {\n",
    "    'Id' : id,\n",
    "    'pagerank_cocit':pr\n",
    "}\n",
    "pagerank = pd.DataFrame(d)\n",
    "pagerank.to_csv('pagerankcocitfirst3.csv',index = False)\n"
   ]
  },
  {
   "cell_type": "code",
   "execution_count": null,
   "metadata": {
    "collapsed": true
   },
   "outputs": [],
   "source": [
    "\n",
    "\n",
    "betweenness_centrality = nx.betweenness_centrality(G)\n",
    "id = betweenness_centrality.keys()\n",
    "bwn = betweenness_centrality.values()\n",
    "d = {\n",
    "    'Id' : id,\n",
    "    'betweenness_centrality_cocit':bwn\n",
    "}\n",
    "betweenness_cen = pd.DataFrame(d)\n",
    "betweenness_cen.to_csv('betweenness_centrality_cocitfirst5.csv',index = False)\n"
   ]
  },
  {
   "cell_type": "code",
   "execution_count": null,
   "metadata": {
    "collapsed": true
   },
   "outputs": [],
   "source": []
  },
  {
   "cell_type": "code",
   "execution_count": 23,
   "metadata": {
    "collapsed": true
   },
   "outputs": [],
   "source": [
    "G = nx.MultiDiGraph()\n",
    "for i,r in df.iterrows():\n",
    "    G.add_edge(r['citer_author'],r['cited_author'])"
   ]
  },
  {
   "cell_type": "code",
   "execution_count": 9,
   "metadata": {
    "collapsed": true
   },
   "outputs": [],
   "source": [
    "from networkx.algorithms.reciprocity import reciprocity"
   ]
  },
  {
   "cell_type": "code",
   "execution_count": 24,
   "metadata": {
    "collapsed": true
   },
   "outputs": [],
   "source": [
    "a = G.nodes()"
   ]
  },
  {
   "cell_type": "code",
   "execution_count": 25,
   "metadata": {
    "collapsed": true
   },
   "outputs": [],
   "source": [
    "reci = reciprocity(G,a)"
   ]
  },
  {
   "cell_type": "code",
   "execution_count": 26,
   "metadata": {
    "collapsed": true
   },
   "outputs": [],
   "source": [
    "id = reci.keys()\n",
    "recip = reci.values()\n",
    "d = {\n",
    "    'Id' : id,\n",
    "    'reciprocity':recip\n",
    "}\n",
    "recip = pd.DataFrame(d)\n",
    "recip.to_csv('reciprocityfirst5.csv',index = False)"
   ]
  },
  {
   "cell_type": "code",
   "execution_count": 27,
   "metadata": {
    "collapsed": true
   },
   "outputs": [],
   "source": [
    "degree_centrality = nx.degree_centrality(G)\n",
    "id = degree_centrality.keys()\n",
    "degree = degree_centrality.values()\n",
    "d = {\n",
    "    'Id' : id,\n",
    "    'degree_centrality':degree\n",
    "}\n",
    "degree_cen = pd.DataFrame(d)\n",
    "degree_cen.to_csv('degree_centrality_cocitation_first5.csv',index = False)"
   ]
  },
  {
   "cell_type": "code",
   "execution_count": null,
   "metadata": {
    "collapsed": true
   },
   "outputs": [],
   "source": []
  }
 ],
 "metadata": {
  "kernelspec": {
   "display_name": "Python 2",
   "language": "python",
   "name": "python2"
  },
  "language_info": {
   "codemirror_mode": {
    "name": "ipython",
    "version": 2
   },
   "file_extension": ".py",
   "mimetype": "text/x-python",
   "name": "python",
   "nbconvert_exporter": "python",
   "pygments_lexer": "ipython2",
   "version": "2.7.13"
  }
 },
 "nbformat": 4,
 "nbformat_minor": 2
}
