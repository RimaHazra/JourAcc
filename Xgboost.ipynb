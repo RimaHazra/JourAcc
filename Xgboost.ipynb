{
 "cells": [
  {
   "cell_type": "code",
   "execution_count": 67,
   "metadata": {
    "collapsed": true
   },
   "outputs": [],
   "source": [
    "import numpy as np\n",
    "import pandas as pd\n",
    "import matplotlib.pyplot as plt\n",
    "import xgboost\n",
    "import math\n",
    "from __future__ import division\n",
    "from scipy.stats import pearsonr\n",
    "from sklearn.linear_model import LinearRegression\n",
    "from sklearn import cross_validation, tree, linear_model\n",
    "from sklearn.model_selection import train_test_split\n",
    "from sklearn.metrics import explained_variance_score, r2_score\n",
    "import xgboost as xgb"
   ]
  },
  {
   "cell_type": "code",
   "execution_count": 2,
   "metadata": {
    "collapsed": true
   },
   "outputs": [],
   "source": [
    "data = pd.read_csv('Final_dataset.csv')"
   ]
  },
  {
   "cell_type": "code",
   "execution_count": 4,
   "metadata": {
    "collapsed": true
   },
   "outputs": [],
   "source": [
    "data['diff'] = data['diff'].apply(lambda x : abs(int(x.split()[0])))"
   ]
  },
  {
   "cell_type": "code",
   "execution_count": 5,
   "metadata": {},
   "outputs": [
    {
     "data": {
      "text/html": [
       "<div>\n",
       "<style scoped>\n",
       "    .dataframe tbody tr th:only-of-type {\n",
       "        vertical-align: middle;\n",
       "    }\n",
       "\n",
       "    .dataframe tbody tr th {\n",
       "        vertical-align: top;\n",
       "    }\n",
       "\n",
       "    .dataframe thead th {\n",
       "        text-align: right;\n",
       "    }\n",
       "</style>\n",
       "<table border=\"1\" class=\"dataframe\">\n",
       "  <thead>\n",
       "    <tr style=\"text-align: right;\">\n",
       "      <th></th>\n",
       "      <th>accepted</th>\n",
       "      <th>citations</th>\n",
       "      <th>doc_id</th>\n",
       "      <th>rounds</th>\n",
       "      <th>year</th>\n",
       "      <th>author_id</th>\n",
       "      <th>degree_centrality</th>\n",
       "      <th>page_rank</th>\n",
       "      <th>cluster_coeff</th>\n",
       "      <th>closeness_centrality</th>\n",
       "      <th>betweenness_centrality</th>\n",
       "      <th>team_size</th>\n",
       "      <th>mean_citation</th>\n",
       "      <th>Author_Reputation</th>\n",
       "      <th>diff</th>\n",
       "      <th>Sentiment</th>\n",
       "    </tr>\n",
       "  </thead>\n",
       "  <tbody>\n",
       "    <tr>\n",
       "      <th>0</th>\n",
       "      <td>1.0</td>\n",
       "      <td>0.0</td>\n",
       "      <td>25604.0</td>\n",
       "      <td>2.0</td>\n",
       "      <td>2014.0</td>\n",
       "      <td>13513.0</td>\n",
       "      <td>0.017833</td>\n",
       "      <td>0.000117</td>\n",
       "      <td>0.010757</td>\n",
       "      <td>0.409345</td>\n",
       "      <td>0.000255</td>\n",
       "      <td>3</td>\n",
       "      <td>22.700000</td>\n",
       "      <td>1.0</td>\n",
       "      <td>41</td>\n",
       "      <td>0.121670</td>\n",
       "    </tr>\n",
       "    <tr>\n",
       "      <th>1</th>\n",
       "      <td>1.0</td>\n",
       "      <td>0.0</td>\n",
       "      <td>25604.0</td>\n",
       "      <td>2.0</td>\n",
       "      <td>2014.0</td>\n",
       "      <td>21593.0</td>\n",
       "      <td>0.004161</td>\n",
       "      <td>0.000033</td>\n",
       "      <td>0.023025</td>\n",
       "      <td>0.357497</td>\n",
       "      <td>0.000007</td>\n",
       "      <td>3</td>\n",
       "      <td>3.600000</td>\n",
       "      <td>1.0</td>\n",
       "      <td>41</td>\n",
       "      <td>0.121670</td>\n",
       "    </tr>\n",
       "    <tr>\n",
       "      <th>2</th>\n",
       "      <td>1.0</td>\n",
       "      <td>0.0</td>\n",
       "      <td>25604.0</td>\n",
       "      <td>2.0</td>\n",
       "      <td>2014.0</td>\n",
       "      <td>4302.0</td>\n",
       "      <td>0.036472</td>\n",
       "      <td>0.000247</td>\n",
       "      <td>0.008988</td>\n",
       "      <td>0.427258</td>\n",
       "      <td>0.000581</td>\n",
       "      <td>3</td>\n",
       "      <td>15.608696</td>\n",
       "      <td>1.0</td>\n",
       "      <td>41</td>\n",
       "      <td>0.121670</td>\n",
       "    </tr>\n",
       "    <tr>\n",
       "      <th>3</th>\n",
       "      <td>1.0</td>\n",
       "      <td>15.0</td>\n",
       "      <td>14964.0</td>\n",
       "      <td>2.0</td>\n",
       "      <td>2010.0</td>\n",
       "      <td>13513.0</td>\n",
       "      <td>0.017833</td>\n",
       "      <td>0.000117</td>\n",
       "      <td>0.010757</td>\n",
       "      <td>0.409345</td>\n",
       "      <td>0.000255</td>\n",
       "      <td>3</td>\n",
       "      <td>22.700000</td>\n",
       "      <td>1.0</td>\n",
       "      <td>19</td>\n",
       "      <td>0.433333</td>\n",
       "    </tr>\n",
       "    <tr>\n",
       "      <th>4</th>\n",
       "      <td>1.0</td>\n",
       "      <td>15.0</td>\n",
       "      <td>14964.0</td>\n",
       "      <td>2.0</td>\n",
       "      <td>2010.0</td>\n",
       "      <td>13513.0</td>\n",
       "      <td>0.017833</td>\n",
       "      <td>0.000117</td>\n",
       "      <td>0.010757</td>\n",
       "      <td>0.409345</td>\n",
       "      <td>0.000255</td>\n",
       "      <td>3</td>\n",
       "      <td>22.700000</td>\n",
       "      <td>1.0</td>\n",
       "      <td>0</td>\n",
       "      <td>0.433333</td>\n",
       "    </tr>\n",
       "  </tbody>\n",
       "</table>\n",
       "</div>"
      ],
      "text/plain": [
       "   accepted  citations   doc_id  rounds    year  author_id  degree_centrality  \\\n",
       "0       1.0        0.0  25604.0     2.0  2014.0    13513.0           0.017833   \n",
       "1       1.0        0.0  25604.0     2.0  2014.0    21593.0           0.004161   \n",
       "2       1.0        0.0  25604.0     2.0  2014.0     4302.0           0.036472   \n",
       "3       1.0       15.0  14964.0     2.0  2010.0    13513.0           0.017833   \n",
       "4       1.0       15.0  14964.0     2.0  2010.0    13513.0           0.017833   \n",
       "\n",
       "   page_rank  cluster_coeff  closeness_centrality  betweenness_centrality  \\\n",
       "0   0.000117       0.010757              0.409345                0.000255   \n",
       "1   0.000033       0.023025              0.357497                0.000007   \n",
       "2   0.000247       0.008988              0.427258                0.000581   \n",
       "3   0.000117       0.010757              0.409345                0.000255   \n",
       "4   0.000117       0.010757              0.409345                0.000255   \n",
       "\n",
       "   team_size  mean_citation  Author_Reputation  diff  Sentiment  \n",
       "0          3      22.700000                1.0    41   0.121670  \n",
       "1          3       3.600000                1.0    41   0.121670  \n",
       "2          3      15.608696                1.0    41   0.121670  \n",
       "3          3      22.700000                1.0    19   0.433333  \n",
       "4          3      22.700000                1.0     0   0.433333  "
      ]
     },
     "execution_count": 5,
     "metadata": {},
     "output_type": "execute_result"
    }
   ],
   "source": [
    "data.head()"
   ]
  },
  {
   "cell_type": "code",
   "execution_count": 6,
   "metadata": {
    "collapsed": true
   },
   "outputs": [],
   "source": [
    "def in_qrange(ser, q):\n",
    "    return ser.between(*ser.quantile(q=q))"
   ]
  },
  {
   "cell_type": "markdown",
   "metadata": {},
   "source": [
    "### Author Popularity"
   ]
  },
  {
   "cell_type": "code",
   "execution_count": 16,
   "metadata": {
    "collapsed": true
   },
   "outputs": [],
   "source": [
    "bottom25 =  data.loc[data['mean_citation'].transform(in_qrange, q=[0, 0.25])]\n",
    "top25 =  data.loc[data['mean_citation'].transform(in_qrange, q=[0.75, 1])]"
   ]
  },
  {
   "cell_type": "code",
   "execution_count": 17,
   "metadata": {},
   "outputs": [
    {
     "data": {
      "text/plain": [
       "(4.81144451145959, 68.32874008275444)"
      ]
     },
     "execution_count": 17,
     "metadata": {},
     "output_type": "execute_result"
    }
   ],
   "source": [
    "bottom25.citations.mean(),top25.citations.mean()"
   ]
  },
  {
   "cell_type": "markdown",
   "metadata": {},
   "source": [
    "### Author Reputation"
   ]
  },
  {
   "cell_type": "code",
   "execution_count": 18,
   "metadata": {
    "collapsed": true
   },
   "outputs": [],
   "source": [
    "bottom25 =  data.loc[data['Author_Reputation'].transform(in_qrange, q=[0, 0.25])]\n",
    "top25 =  data.loc[data['Author_Reputation'].transform(in_qrange, q=[0.75, 1])]"
   ]
  },
  {
   "cell_type": "code",
   "execution_count": 19,
   "metadata": {},
   "outputs": [
    {
     "data": {
      "text/plain": [
       "(16.2837648307494, 32.040872111942726)"
      ]
     },
     "execution_count": 19,
     "metadata": {},
     "output_type": "execute_result"
    }
   ],
   "source": [
    "bottom25.citations.mean(),top25.citations.mean()"
   ]
  },
  {
   "cell_type": "markdown",
   "metadata": {},
   "source": [
    "### Team Size"
   ]
  },
  {
   "cell_type": "code",
   "execution_count": 40,
   "metadata": {
    "collapsed": true
   },
   "outputs": [],
   "source": [
    "bottom25 =  data.loc[data['team_size'].transform(in_qrange, q=[0.8, 0.9])]\n",
    "top25 =  data.loc[data['team_size'].transform(in_qrange, q=[0, .2])]"
   ]
  },
  {
   "cell_type": "code",
   "execution_count": 41,
   "metadata": {},
   "outputs": [
    {
     "data": {
      "text/plain": [
       "(49.53358843537415, 21.525056831676448)"
      ]
     },
     "execution_count": 41,
     "metadata": {},
     "output_type": "execute_result"
    }
   ],
   "source": [
    "bottom25.citations.mean(),top25.citations.mean()"
   ]
  },
  {
   "cell_type": "markdown",
   "metadata": {},
   "source": [
    "### Report Sentiments"
   ]
  },
  {
   "cell_type": "code",
   "execution_count": 47,
   "metadata": {
    "collapsed": true
   },
   "outputs": [],
   "source": [
    "bottom25 =  data.loc[data['Sentiment'].transform(in_qrange, q=[0, 0.1])]\n",
    "top25 =  data.loc[data['Sentiment'].transform(in_qrange, q=[0.9, 1])]"
   ]
  },
  {
   "cell_type": "code",
   "execution_count": 48,
   "metadata": {},
   "outputs": [
    {
     "data": {
      "text/plain": [
       "(54.579338842975204, 24.172974488365572)"
      ]
     },
     "execution_count": 48,
     "metadata": {},
     "output_type": "execute_result"
    }
   ],
   "source": [
    "bottom25.citations.mean(),top25.citations.mean()"
   ]
  },
  {
   "cell_type": "markdown",
   "metadata": {},
   "source": [
    "### Delay in Reports"
   ]
  },
  {
   "cell_type": "code",
   "execution_count": 53,
   "metadata": {
    "collapsed": true
   },
   "outputs": [],
   "source": [
    "bottom25 =  data.loc[data['diff'].transform(in_qrange, q=[0, 0.25])]\n",
    "top25 =  data.loc[data['diff'].transform(in_qrange, q=[0.75, 1])]"
   ]
  },
  {
   "cell_type": "code",
   "execution_count": 54,
   "metadata": {},
   "outputs": [
    {
     "data": {
      "text/plain": [
       "(27.5711004235159, 28.95560184170138)"
      ]
     },
     "execution_count": 54,
     "metadata": {},
     "output_type": "execute_result"
    }
   ],
   "source": [
    "bottom25.citations.mean(),top25.citations.mean()"
   ]
  },
  {
   "cell_type": "code",
   "execution_count": 56,
   "metadata": {},
   "outputs": [
    {
     "data": {
      "image/png": "[encoded data removed]",
      "text/plain": [
       "<matplotlib.figure.Figure at 0x1f140588>"
      ]
     },
     "metadata": {},
     "output_type": "display_data"
    }
   ],
   "source": [
    "plt.scatter(data['diff'],data['citations'])\n",
    "plt.show()"
   ]
  },
  {
   "cell_type": "code",
   "execution_count": 57,
   "metadata": {
    "collapsed": true
   },
   "outputs": [],
   "source": [
    "features = data.drop(['doc_id','citations'],axis=1).columns.tolist()\n",
    "target = 'citations'"
   ]
  },
  {
   "cell_type": "code",
   "execution_count": 58,
   "metadata": {
    "collapsed": true
   },
   "outputs": [],
   "source": [
    "correlations = {}\n",
    "for f in features:\n",
    "    data_temp = data[[f,target]]\n",
    "    x1 = data_temp[f].values\n",
    "    x2 = data_temp[target].values\n",
    "    key = f + ' vs ' + target\n",
    "    correlations[key] = pearsonr(x1,x2)[0]"
   ]
  },
  {
   "cell_type": "code",
   "execution_count": 59,
   "metadata": {},
   "outputs": [
    {
     "data": {
      "text/html": [
       "<div>\n",
       "<style scoped>\n",
       "    .dataframe tbody tr th:only-of-type {\n",
       "        vertical-align: middle;\n",
       "    }\n",
       "\n",
       "    .dataframe tbody tr th {\n",
       "        vertical-align: top;\n",
       "    }\n",
       "\n",
       "    .dataframe thead th {\n",
       "        text-align: right;\n",
       "    }\n",
       "</style>\n",
       "<table border=\"1\" class=\"dataframe\">\n",
       "  <thead>\n",
       "    <tr style=\"text-align: right;\">\n",
       "      <th></th>\n",
       "      <th>Value</th>\n",
       "    </tr>\n",
       "  </thead>\n",
       "  <tbody>\n",
       "    <tr>\n",
       "      <th>mean_citation vs citations</th>\n",
       "      <td>0.635586</td>\n",
       "    </tr>\n",
       "    <tr>\n",
       "      <th>year vs citations</th>\n",
       "      <td>-0.199613</td>\n",
       "    </tr>\n",
       "    <tr>\n",
       "      <th>author_id vs citations</th>\n",
       "      <td>-0.123728</td>\n",
       "    </tr>\n",
       "    <tr>\n",
       "      <th>Sentiment vs citations</th>\n",
       "      <td>-0.123420</td>\n",
       "    </tr>\n",
       "    <tr>\n",
       "      <th>Author_Reputation vs citations</th>\n",
       "      <td>0.096583</td>\n",
       "    </tr>\n",
       "    <tr>\n",
       "      <th>accepted vs citations</th>\n",
       "      <td>0.080455</td>\n",
       "    </tr>\n",
       "    <tr>\n",
       "      <th>cluster_coeff vs citations</th>\n",
       "      <td>-0.040726</td>\n",
       "    </tr>\n",
       "    <tr>\n",
       "      <th>page_rank vs citations</th>\n",
       "      <td>0.037693</td>\n",
       "    </tr>\n",
       "    <tr>\n",
       "      <th>rounds vs citations</th>\n",
       "      <td>-0.037467</td>\n",
       "    </tr>\n",
       "    <tr>\n",
       "      <th>team_size vs citations</th>\n",
       "      <td>-0.032859</td>\n",
       "    </tr>\n",
       "    <tr>\n",
       "      <th>closeness_centrality vs citations</th>\n",
       "      <td>0.027679</td>\n",
       "    </tr>\n",
       "    <tr>\n",
       "      <th>betweenness_centrality vs citations</th>\n",
       "      <td>0.018866</td>\n",
       "    </tr>\n",
       "    <tr>\n",
       "      <th>diff vs citations</th>\n",
       "      <td>0.012773</td>\n",
       "    </tr>\n",
       "    <tr>\n",
       "      <th>degree_centrality vs citations</th>\n",
       "      <td>-0.004608</td>\n",
       "    </tr>\n",
       "  </tbody>\n",
       "</table>\n",
       "</div>"
      ],
      "text/plain": [
       "                                        Value\n",
       "mean_citation vs citations           0.635586\n",
       "year vs citations                   -0.199613\n",
       "author_id vs citations              -0.123728\n",
       "Sentiment vs citations              -0.123420\n",
       "Author_Reputation vs citations       0.096583\n",
       "accepted vs citations                0.080455\n",
       "cluster_coeff vs citations          -0.040726\n",
       "page_rank vs citations               0.037693\n",
       "rounds vs citations                 -0.037467\n",
       "team_size vs citations              -0.032859\n",
       "closeness_centrality vs citations    0.027679\n",
       "betweenness_centrality vs citations  0.018866\n",
       "diff vs citations                    0.012773\n",
       "degree_centrality vs citations      -0.004608"
      ]
     },
     "execution_count": 59,
     "metadata": {},
     "output_type": "execute_result"
    }
   ],
   "source": [
    "data_correlations = pd.DataFrame(correlations, index=['Value']).T\n",
    "data_correlations.loc[data_correlations['Value'].abs().sort_values(ascending=False).index]"
   ]
  },
  {
   "cell_type": "code",
   "execution_count": 60,
   "metadata": {
    "collapsed": true
   },
   "outputs": [],
   "source": [
    "regr = linear_model.LinearRegression()\n",
    "new_data = data.drop('citations',axis=1)"
   ]
  },
  {
   "cell_type": "code",
   "execution_count": 61,
   "metadata": {
    "collapsed": true
   },
   "outputs": [],
   "source": [
    "X = new_data\n",
    "y = data.citations"
   ]
  },
  {
   "cell_type": "code",
   "execution_count": 62,
   "metadata": {
    "collapsed": true
   },
   "outputs": [],
   "source": [
    "X_train, X_test, y_train, y_test = cross_validation.train_test_split(X, y ,test_size=0.2)"
   ]
  },
  {
   "cell_type": "code",
   "execution_count": 63,
   "metadata": {},
   "outputs": [
    {
     "data": {
      "text/plain": [
       "LinearRegression(copy_X=True, fit_intercept=True, n_jobs=1, normalize=False)"
      ]
     },
     "execution_count": 63,
     "metadata": {},
     "output_type": "execute_result"
    }
   ],
   "source": [
    "regr.fit(X_train.drop('doc_id',axis=1), y_train)\n"
   ]
  },
  {
   "cell_type": "code",
   "execution_count": 64,
   "metadata": {},
   "outputs": [
    {
     "data": {
      "text/plain": [
       "-0.8613999500728926"
      ]
     },
     "execution_count": 64,
     "metadata": {},
     "output_type": "execute_result"
    }
   ],
   "source": [
    "r2_score(regr.predict(X_test.drop('doc_id',axis=1)),y_test)"
   ]
  },
  {
   "cell_type": "code",
   "execution_count": 65,
   "metadata": {},
   "outputs": [
    {
     "name": "stdout",
     "output_type": "stream",
     "text": [
      "RMSE: 55.64\n"
     ]
    }
   ],
   "source": [
    "print(\"RMSE: %.2f\"\n",
    "      % math.sqrt(np.mean((regr.predict(X_test.drop('doc_id',axis=1)) - y_test) ** 2)))"
   ]
  },
  {
   "cell_type": "code",
   "execution_count": 106,
   "metadata": {},
   "outputs": [],
   "source": [
    "xgb_model = xgb.XGBRegressor()\n",
    "para ={\n",
    "    'colsample_bytree': 0.8,\n",
    "    'learning_rate': .4,\n",
    "    'max_depth': 30,\n",
    "    'min_child_weight': 3,\n",
    "    'n_estimators': 1000,\n",
    "    'n_jobs': -1,\n",
    "    'objective': 'reg:linear',\n",
    "    'eval_metric': 'rmse',\n",
    "    'seed': 1337,\n",
    "    'silent': 0,\n",
    "    'subsample': 0.9,\n",
    "    'booster':'gbtree' ,\n",
    "    'tree_method ':'exact'\n",
    "    }\n"
   ]
  },
  {
   "cell_type": "code",
   "execution_count": 107,
   "metadata": {},
   "outputs": [],
   "source": [
    "n_rounds = 50\n",
    "dtrain = xgb.DMatrix(X_train, label=y_train)\n",
    "dtest = xgb.DMatrix(X_test)\n",
    "bst = xgb.train(para, dtrain,n_rounds)\n",
    "y_pred = bst.predict(dtest)"
   ]
  },
  {
   "cell_type": "code",
   "execution_count": 108,
   "metadata": {},
   "outputs": [
    {
     "name": "stdout",
     "output_type": "stream",
     "text": [
      "0.7311367725504485\n"
     ]
    }
   ],
   "source": [
    "print(r2_score(y_test,y_pred))"
   ]
  },
  {
   "cell_type": "code",
   "execution_count": 72,
   "metadata": {},
   "outputs": [
    {
     "data": {
      "text/plain": [
       "(105344, 16)"
      ]
     },
     "execution_count": 72,
     "metadata": {},
     "output_type": "execute_result"
    }
   ],
   "source": [
    "data.shape"
   ]
  },
  {
   "cell_type": "code",
   "execution_count": null,
   "metadata": {
    "collapsed": true
   },
   "outputs": [],
   "source": []
  }
 ],
 "metadata": {
  "kernelspec": {
   "display_name": "Python 3",
   "language": "python",
   "name": "python3"
  },
  "language_info": {
   "codemirror_mode": {
    "name": "ipython",
    "version": 3
   },
   "file_extension": ".py",
   "mimetype": "text/x-python",
   "name": "python",
   "nbconvert_exporter": "python",
   "pygments_lexer": "ipython3",
   "version": "3.8.3"
  }
 },
 "nbformat": 4,
 "nbformat_minor": 2
}
