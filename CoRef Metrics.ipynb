{
 "cells": [
  {
   "cell_type": "code",
   "execution_count": 1,
   "metadata": {
    "collapsed": true
   },
   "outputs": [],
   "source": [
    "import pandas as pd\n",
    "import networkx as nx\n",
    "import matplotlib.pyplot as plt\n",
    "import plotly.plotly as py\n",
    "import plotly.graph_objs as go\n",
    "import numpy as np\n",
    "import os\n",
    "\n"
   ]
  },
  {
   "cell_type": "code",
   "execution_count": 9,
   "metadata": {
    "collapsed": true
   },
   "outputs": [],
   "source": [
    "id = []\n",
    "betweenness_centrality = []\n",
    "with open('betweennesscentrality.txt') as infile:\n",
    "    for line in infile:\n",
    "        id.append(line.split()[0])\n",
    "        betweenness_centrality.append(line.split()[1])\n",
    "        \n",
    "d= {\n",
    "    'Id' : id,\n",
    "    'betweenness_centrality':betweenness_centrality\n",
    "}\n",
    "df = pd.DataFrame(d)\n",
    "df.betweenness_centrality = df.betweenness_centrality.astype(float)\n",
    "df.Id = df.Id.astype(int)\n",
    "df.to_csv('betweenness_centrality_coref.csv',index=False)"
   ]
  },
  {
   "cell_type": "code",
   "execution_count": 10,
   "metadata": {
    "collapsed": true
   },
   "outputs": [],
   "source": [
    "y = df['Id'].unique()\n",
    "high = []\n",
    "with open('high_acceptance.txt') as infile:\n",
    "    for line in infile:\n",
    "        a = line.split(':')\n",
    "        high.append(int(a[0]))\n",
    "low = []\n",
    "with open('low_acceptance.txt') as infile:\n",
    "    for line in infile:\n",
    "        a = line.split(':')\n",
    "        low.append(int(a[0]))\n",
    "med = []\n",
    "with open('medium_acceptance.txt') as infile:\n",
    "    for line in infile:\n",
    "        a = line.split(':')\n",
    "        med.append(int(a[0]))\n",
    "l = []\n",
    "for i in y:\n",
    "    if i in high:\n",
    "        l.append(0)\n",
    "    elif i in med:\n",
    "        l.append(1)\n",
    "    elif i in low:\n",
    "        l.append(2)\n",
    "    else:\n",
    "        l.append(-1)\n",
    "        \n",
    "d = {\n",
    "    'Id':y,\n",
    "    'Flag':l\n",
    "}\n",
    "\n",
    "flag = pd.DataFrame(d)"
   ]
  },
  {
   "cell_type": "code",
   "execution_count": 12,
   "metadata": {
    "collapsed": true
   },
   "outputs": [],
   "source": [
    "df = pd.merge(df,flag)"
   ]
  },
  {
   "cell_type": "code",
   "execution_count": 16,
   "metadata": {},
   "outputs": [
    {
     "name": "stdout",
     "output_type": "stream",
     "text": [
      "0.000191586164857\n",
      "0.000106718130154\n",
      "1.46973216193e-05\n"
     ]
    }
   ],
   "source": [
    "print df[df['Flag']==0]['betweenness_centrality'].mean()\n",
    "print df[df['Flag']==1]['betweenness_centrality'].mean()\n",
    "print df[df['Flag']==2]['betweenness_centrality'].mean()"
   ]
  },
  {
   "cell_type": "code",
   "execution_count": 18,
   "metadata": {
    "collapsed": true
   },
   "outputs": [],
   "source": [
    "id = []\n",
    "closenesscentrality = []\n",
    "with open('closenesscentrality.txt') as infile:\n",
    "    for line in infile:\n",
    "        id.append(line.split()[0])\n",
    "        closenesscentrality.append(line.split()[1])\n",
    "        \n",
    "d= {\n",
    "    'Id' : id,\n",
    "    'closenesscentrality':closenesscentrality\n",
    "}\n",
    "df = pd.DataFrame(d)\n",
    "df.closenesscentrality = df.closenesscentrality.astype(float)\n",
    "df.Id = df.Id.astype(int)\n",
    "df.to_csv('closenesscentrality_coref.csv',index=False)\n",
    "df = pd.merge(df,flag)"
   ]
  },
  {
   "cell_type": "code",
   "execution_count": 20,
   "metadata": {},
   "outputs": [
    {
     "name": "stdout",
     "output_type": "stream",
     "text": [
      "0.362526318621\n",
      "0.355182870307\n",
      "0.331680014189\n"
     ]
    }
   ],
   "source": [
    "print df[df['Flag']==0]['closenesscentrality'].mean()\n",
    "print df[df['Flag']==1]['closenesscentrality'].mean()\n",
    "print df[df['Flag']==2]['closenesscentrality'].mean()"
   ]
  },
  {
   "cell_type": "code",
   "execution_count": 21,
   "metadata": {
    "collapsed": true
   },
   "outputs": [],
   "source": [
    "id = []\n",
    "clusteringcoefficient = []\n",
    "with open('clusteringcoefficient.txt') as infile:\n",
    "    for line in infile:\n",
    "        id.append(line.split()[0])\n",
    "        clusteringcoefficient.append(line.split()[1])\n",
    "        \n",
    "d= {\n",
    "    'Id' : id,\n",
    "    'clusteringcoefficient':clusteringcoefficient\n",
    "}\n",
    "df = pd.DataFrame(d)\n",
    "df.clusteringcoefficient = df.clusteringcoefficient.astype(float)\n",
    "df.Id = df.Id.astype(int)\n",
    "df.to_csv('clusteringcoefficient_coref.csv',index=False)\n",
    "df = pd.merge(df,flag)"
   ]
  },
  {
   "cell_type": "code",
   "execution_count": 23,
   "metadata": {},
   "outputs": [
    {
     "name": "stdout",
     "output_type": "stream",
     "text": [
      "0.0376758738483\n",
      "0.0335894888278\n",
      "0.0384360750628\n"
     ]
    }
   ],
   "source": [
    "print df[df['Flag']==0]['clusteringcoefficient'].mean()\n",
    "print df[df['Flag']==1]['clusteringcoefficient'].mean()\n",
    "print df[df['Flag']==2]['clusteringcoefficient'].mean()"
   ]
  },
  {
   "cell_type": "code",
   "execution_count": 24,
   "metadata": {
    "collapsed": true
   },
   "outputs": [],
   "source": [
    "id = []\n",
    "degreecentrality = []\n",
    "with open('degreecentrality.txt') as infile:\n",
    "    for line in infile:\n",
    "        id.append(line.split()[0])\n",
    "        degreecentrality.append(line.split()[1])\n",
    "        \n",
    "d= {\n",
    "    'Id' : id,\n",
    "    'degreecentrality':degreecentrality\n",
    "}\n",
    "df = pd.DataFrame(d)\n",
    "df.degreecentrality = df.degreecentrality.astype(float)\n",
    "df.Id = df.Id.astype(int)\n",
    "df.to_csv('degreecentrality_coref.csv',index=False)\n",
    "df = pd.merge(df,flag)"
   ]
  },
  {
   "cell_type": "code",
   "execution_count": 25,
   "metadata": {},
   "outputs": [
    {
     "name": "stdout",
     "output_type": "stream",
     "text": [
      "0.019413810836\n",
      "0.0117724292605\n",
      "0.00258695152653\n"
     ]
    }
   ],
   "source": [
    "print df[df['Flag']==0]['degreecentrality'].mean()\n",
    "print df[df['Flag']==1]['degreecentrality'].mean()\n",
    "print df[df['Flag']==2]['degreecentrality'].mean()"
   ]
  },
  {
   "cell_type": "code",
   "execution_count": 26,
   "metadata": {
    "collapsed": true
   },
   "outputs": [],
   "source": [
    "id = []\n",
    "pagerank = []\n",
    "with open('pagerank.txt') as infile:\n",
    "    for line in infile:\n",
    "        id.append(line.split()[0])\n",
    "        pagerank.append(line.split()[1])\n",
    "        \n",
    "d= {\n",
    "    'Id' : id,\n",
    "    'pagerank':pagerank\n",
    "}\n",
    "df = pd.DataFrame(d)\n",
    "df.pagerank = df.pagerank.astype(float)\n",
    "df.Id = df.Id.astype(int)\n",
    "df.to_csv('pagerank_coref.csv',index=False)\n",
    "df = pd.merge(df,flag)"
   ]
  },
  {
   "cell_type": "code",
   "execution_count": 27,
   "metadata": {},
   "outputs": [
    {
     "name": "stdout",
     "output_type": "stream",
     "text": [
      "7.18798658591e-05\n",
      "5.01150040522e-05\n",
      "2.53464745158e-05\n"
     ]
    }
   ],
   "source": [
    "print df[df['Flag']==0]['pagerank'].mean()\n",
    "print df[df['Flag']==1]['pagerank'].mean()\n",
    "print df[df['Flag']==2]['pagerank'].mean()"
   ]
  },
  {
   "cell_type": "code",
   "execution_count": 31,
   "metadata": {},
   "outputs": [
    {
     "name": "stdout",
     "output_type": "stream",
     "text": [
      "0.00390454496839\n",
      "0.00398837582148\n",
      "0.000271692253413\n"
     ]
    }
   ],
   "source": [
    "df= pd.read_csv('degree_centrality_coauth_2011.csv')\n",
    "df = pd.merge(df,flag)\n",
    "\n",
    "print df[df['Flag']==0]['degree_centrality'].mean()\n",
    "print df[df['Flag']==1]['degree_centrality'].mean()\n",
    "print df[df['Flag']==2]['degree_centrality'].mean()"
   ]
  },
  {
   "cell_type": "code",
   "execution_count": 32,
   "metadata": {},
   "outputs": [
    {
     "name": "stdout",
     "output_type": "stream",
     "text": [
      "0.000119275929216\n",
      "7.5973935748e-05\n",
      "5.15794328224e-05\n"
     ]
    }
   ],
   "source": [
    "df= pd.read_csv('pagerank_coauth_2011.csv')\n",
    "df = pd.merge(df,flag)\n",
    "\n",
    "print df[df['Flag']==0]['pagerank'].mean()\n",
    "print df[df['Flag']==1]['pagerank'].mean()\n",
    "print df[df['Flag']==2]['pagerank'].mean()"
   ]
  },
  {
   "cell_type": "code",
   "execution_count": 33,
   "metadata": {},
   "outputs": [
    {
     "name": "stdout",
     "output_type": "stream",
     "text": [
      "0.0463607841991\n",
      "0.0496729710632\n",
      "0.0485024671997\n"
     ]
    }
   ],
   "source": [
    "df= pd.read_csv('clustering_coeff_coauth_2011.csv')\n",
    "df = pd.merge(df,flag)\n",
    "\n",
    "print df[df['Flag']==0]['clustering_coeff'].mean()\n",
    "print df[df['Flag']==1]['clustering_coeff'].mean()\n",
    "print df[df['Flag']==2]['clustering_coeff'].mean()"
   ]
  },
  {
   "cell_type": "code",
   "execution_count": 34,
   "metadata": {},
   "outputs": [
    {
     "name": "stdout",
     "output_type": "stream",
     "text": [
      "0.000882706606089\n",
      "0.000362693227944\n",
      "7.20078207145e-05\n"
     ]
    }
   ],
   "source": [
    "df= pd.read_csv('betweenness_centrality_coauth_2011.csv')\n",
    "df = pd.merge(df,flag)\n",
    "\n",
    "print df[df['Flag']==0]['betweenness_centrality'].mean()\n",
    "print df[df['Flag']==1]['betweenness_centrality'].mean()\n",
    "print df[df['Flag']==2]['betweenness_centrality'].mean()"
   ]
  },
  {
   "cell_type": "code",
   "execution_count": 35,
   "metadata": {},
   "outputs": [
    {
     "name": "stdout",
     "output_type": "stream",
     "text": [
      "0.105440978609\n",
      "0.0858424053737\n",
      "0.0630147211963\n"
     ]
    }
   ],
   "source": [
    "df= pd.read_csv('closeness_centrality_coauth_2011.csv')\n",
    "df = pd.merge(df,flag)\n",
    "\n",
    "print df[df['Flag']==0]['closeness_centrality'].mean()\n",
    "print df[df['Flag']==1]['closeness_centrality'].mean()\n",
    "print df[df['Flag']==2]['closeness_centrality'].mean()"
   ]
  },
  {
   "cell_type": "code",
   "execution_count": null,
   "metadata": {
    "collapsed": true
   },
   "outputs": [],
   "source": []
  }
 ],
 "metadata": {
  "kernelspec": {
   "display_name": "Python 2",
   "language": "python",
   "name": "python2"
  },
  "language_info": {
   "codemirror_mode": {
    "name": "ipython",
    "version": 2
   },
   "file_extension": ".py",
   "mimetype": "text/x-python",
   "name": "python",
   "nbconvert_exporter": "python",
   "pygments_lexer": "ipython2",
   "version": "2.7.13"
  }
 },
 "nbformat": 4,
 "nbformat_minor": 2
}
