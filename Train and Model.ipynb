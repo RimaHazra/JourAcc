{
 "cells": [
  {
   "cell_type": "code",
   "execution_count": 1,
   "metadata": {
    "collapsed": true
   },
   "outputs": [],
   "source": [
    "import pandas as pd\n",
    "import networkx as nx\n",
    "import matplotlib.pyplot as plt\n",
    "import plotly.plotly as py\n",
    "import plotly.graph_objs as go\n",
    "import numpy as np\n",
    "import re\n",
    "from collections import defaultdict\n",
    "from itertools import combinations\n",
    "from collections import Counter\n",
    "import math\n",
    "import operator\n",
    "from sklearn.model_selection import train_test_split"
   ]
  },
  {
   "cell_type": "code",
   "execution_count": 3,
   "metadata": {
    "collapsed": true
   },
   "outputs": [],
   "source": [
    "df = pd.read_csv('Final_dataset.csv')\n",
    "y = df['author_id'].unique()\n",
    "l = []\n",
    "for i in y:\n",
    "    df1 = df[df['author_id']==i]\n",
    "    l.append(min(df1['year']))\n",
    "    \n",
    "d = {\n",
    "    'author_id':y,\n",
    "    'first_paper':l\n",
    "}\n",
    "df1 = pd.DataFrame(d)\n",
    "df1 = pd.merge(df1,df)\n",
    "df1['paper_diff'] = df1['year'] -  df1['first_paper']\n",
    "first3 = df1[df1['paper_diff']<3]\n",
    "first5 = df1[df1['paper_diff']<5]"
   ]
  },
  {
   "cell_type": "code",
   "execution_count": 4,
   "metadata": {
    "collapsed": true
   },
   "outputs": [],
   "source": [
    "doc =[]\n",
    "ver = []\n",
    "with open('versionCod_DocCod.txt') as infile:\n",
    "    for line in infile:\n",
    "        a = line.split()\n",
    "        ver.append(a[0])\n",
    "        doc.append(a[1])\n",
    "        \n",
    "d = {'doc_id' : doc,\n",
    "     'version' : ver}\n",
    "ver_df = pd.DataFrame(d)\n",
    "\n",
    "rev =[]\n",
    "ver = []\n",
    "with open('versionCod_refereeCod.txt') as infile:\n",
    "    for line in infile:\n",
    "        a = line.split()\n",
    "        ver.append(a[0])\n",
    "        rev.append(a[1])\n",
    "        \n",
    "d = {'reviewer' : rev,\n",
    "     'version' : ver}\n",
    "rev_df = pd.DataFrame(d)\n",
    "\n",
    "df = pd.merge(ver_df,rev_df)\n",
    "df = df[['doc_id','reviewer']]\n",
    "df = df.drop_duplicates()\n",
    "df.doc_id = df.doc_id.astype(int)\n",
    "df.reviewer = df.reviewer.astype(int)\n",
    "df = pd.merge(first3,df)\n",
    "df = df[['doc_id','reviewer','author_id']]\n",
    "df = df.drop_duplicates()"
   ]
  },
  {
   "cell_type": "code",
   "execution_count": 5,
   "metadata": {
    "collapsed": true
   },
   "outputs": [],
   "source": [
    "def p(n, N):\n",
    "    if n is 0:\n",
    "        return 0\n",
    "    else:\n",
    "        return (float(n)/N) * math.log(float(n)/N)"
   ]
  },
  {
   "cell_type": "code",
   "execution_count": 6,
   "metadata": {
    "collapsed": true
   },
   "outputs": [],
   "source": [
    "y = first3['author_id'].unique()\n",
    "rev_div = []\n",
    "for i in y:\n",
    "    l = df[df['author_id']==i]['reviewer']\n",
    "    if len(l)==0:\n",
    "        rev_div.append(0)\n",
    "        continue\n",
    "    data = Counter(l)            \n",
    "    N = sum(data.values())    \n",
    "    rev_div.append(-sum(p(n, N) for n in data.values() if n is not 0))"
   ]
  },
  {
   "cell_type": "code",
   "execution_count": 7,
   "metadata": {
    "collapsed": true
   },
   "outputs": [],
   "source": [
    "d = {\n",
    "    'author_id':y,\n",
    "    'reviewer_diversity':rev_div\n",
    "}\n",
    "\n",
    "rev_div = pd.DataFrame(d)"
   ]
  },
  {
   "cell_type": "code",
   "execution_count": 8,
   "metadata": {
    "collapsed": true
   },
   "outputs": [],
   "source": [
    "cit = []\n",
    "for i in y:\n",
    "    l = first3[first3['author_id']==i]['citations']\n",
    "    if len(l)==0:\n",
    "        cit.append(0)\n",
    "    else:\n",
    "        cit.append(np.mean(l))\n",
    "        \n",
    "d = {\n",
    "    'author_id':y,\n",
    "    'citations':cit\n",
    "}\n",
    "\n",
    "cit = pd.DataFrame(d)"
   ]
  },
  {
   "cell_type": "code",
   "execution_count": 9,
   "metadata": {
    "collapsed": true
   },
   "outputs": [],
   "source": [
    "train = pd.merge(rev_div,cit)"
   ]
  },
  {
   "cell_type": "code",
   "execution_count": 10,
   "metadata": {
    "collapsed": true
   },
   "outputs": [],
   "source": [
    "sent = []\n",
    "for i in y:\n",
    "    l = first3[first3['author_id']==i]['Sentiment']\n",
    "    if len(l)==0:\n",
    "        sent.append(0)\n",
    "    else:\n",
    "        sent.append(np.mean(l))\n",
    "        \n",
    "d = {\n",
    "    'author_id':y,\n",
    "    'Sentiment':sent\n",
    "}\n",
    "\n",
    "sent = pd.DataFrame(d)"
   ]
  },
  {
   "cell_type": "code",
   "execution_count": 11,
   "metadata": {
    "collapsed": true
   },
   "outputs": [],
   "source": [
    "train = pd.merge(train,sent)"
   ]
  },
  {
   "cell_type": "code",
   "execution_count": 12,
   "metadata": {
    "collapsed": true
   },
   "outputs": [],
   "source": [
    "rounds = []\n",
    "for i in y:\n",
    "    l = first3[first3['author_id']==i]['rounds']\n",
    "    if len(l)==0:\n",
    "        rounds.append(0)\n",
    "    else:\n",
    "        rounds.append(np.mean(l))\n",
    "        \n",
    "d = {\n",
    "    'author_id':y,\n",
    "    'rounds':rounds\n",
    "}\n",
    "\n",
    "rounds = pd.DataFrame(d)"
   ]
  },
  {
   "cell_type": "code",
   "execution_count": 13,
   "metadata": {
    "collapsed": true
   },
   "outputs": [],
   "source": [
    "train = pd.merge(train,rounds)"
   ]
  },
  {
   "cell_type": "code",
   "execution_count": 14,
   "metadata": {
    "collapsed": true
   },
   "outputs": [],
   "source": [
    "exp = []\n",
    "for i in y:\n",
    "    l = first3[first3['author_id']==i].shape[0]\n",
    "    exp.append(l)\n",
    "        \n",
    "d = {\n",
    "    'author_id':y,\n",
    "    'experience':exp\n",
    "}\n",
    "\n",
    "exp = pd.DataFrame(d)"
   ]
  },
  {
   "cell_type": "code",
   "execution_count": 15,
   "metadata": {
    "collapsed": true
   },
   "outputs": [],
   "source": [
    "train = pd.merge(train,exp)"
   ]
  },
  {
   "cell_type": "code",
   "execution_count": 16,
   "metadata": {
    "collapsed": true
   },
   "outputs": [],
   "source": [
    "doc =[]\n",
    "ver = []\n",
    "with open('versionCod_DocCod.txt') as infile:\n",
    "    for line in infile:\n",
    "        a = line.split()\n",
    "        ver.append(a[0])\n",
    "        doc.append(a[1])\n",
    "        \n",
    "d = {'doc_id' : doc,\n",
    "     'version' : ver}\n",
    "ver_df = pd.DataFrame(d)\n",
    "\n",
    "\n",
    "edi =[]\n",
    "ver = []\n",
    "with open('versionCod_EditorCod.txt') as infile:\n",
    "    for line in infile:\n",
    "        a = line.split()\n",
    "        ver.append(a[0])\n",
    "        edi.append(a[1])\n",
    "        \n",
    "d = {'version' : ver,\n",
    "     'editor' : edi}\n",
    "edi_df = pd.DataFrame(d)\n",
    "\n",
    "\n",
    "df = pd.merge(ver_df,edi_df)\n",
    "df = df[['doc_id','editor']]\n",
    "df = df.drop_duplicates()\n",
    "df.doc_id = df.doc_id.astype(int)\n",
    "df.editor = df.editor.astype(int)\n",
    "df = pd.merge(first3,df)\n",
    "df = df[['doc_id','editor','author_id']]\n",
    "df = df.drop_duplicates()\n"
   ]
  },
  {
   "cell_type": "code",
   "execution_count": 17,
   "metadata": {
    "collapsed": true
   },
   "outputs": [],
   "source": [
    "edi_div = []\n",
    "for i in y:\n",
    "    l = df[df['author_id']==i]['editor']\n",
    "    if len(l)==0:\n",
    "        edi_div.append(0)\n",
    "        continue\n",
    "    data = Counter(l)            \n",
    "    N = sum(data.values())    \n",
    "    edi_div.append(-sum(p(n, N) for n in data.values() if n is not 0))\n",
    "    \n",
    "d = {\n",
    "    'author_id':y,\n",
    "    'editor_diversity':edi_div\n",
    "}\n",
    "\n",
    "edi_div = pd.DataFrame(d)"
   ]
  },
  {
   "cell_type": "code",
   "execution_count": 18,
   "metadata": {
    "collapsed": true
   },
   "outputs": [],
   "source": [
    "train = pd.merge(train,edi_div)"
   ]
  },
  {
   "cell_type": "code",
   "execution_count": 19,
   "metadata": {
    "collapsed": true
   },
   "outputs": [],
   "source": [
    "edge = []\n",
    "with open('CoauthRefNetworkfirst3.txt') as infile:\n",
    "    for line in infile:\n",
    "        edge.append(line.split())\n",
    "G = nx.Graph()\n",
    "\n",
    "edges = [(k[0],k[1],{'weight':int(k[2])}) for k in edge]\n",
    "G.add_edges_from(edges)"
   ]
  },
  {
   "cell_type": "code",
   "execution_count": 20,
   "metadata": {
    "collapsed": true,
    "scrolled": true
   },
   "outputs": [],
   "source": [
    "G.remove_edges_from(G.selfloop_edges())\n",
    "core = nx.algorithms.core_number(G)"
   ]
  },
  {
   "cell_type": "code",
   "execution_count": 21,
   "metadata": {
    "collapsed": true
   },
   "outputs": [],
   "source": [
    "cn = []\n",
    "for i in y:\n",
    "    try:\n",
    "        cn.append(core[str(i)])\n",
    "    except:\n",
    "        cn.append(0)\n",
    "        \n",
    "d = {\n",
    "    'author_id':y,\n",
    "    'core':cn\n",
    "}\n",
    "\n",
    "core = pd.DataFrame(d)"
   ]
  },
  {
   "cell_type": "code",
   "execution_count": 22,
   "metadata": {
    "collapsed": true
   },
   "outputs": [],
   "source": [
    "train = pd.merge(train,core)"
   ]
  },
  {
   "cell_type": "code",
   "execution_count": 23,
   "metadata": {
    "collapsed": true
   },
   "outputs": [],
   "source": [
    "l =[]\n",
    "for i in y:\n",
    "    a = sorted(first3[first3['author_id']==i]['citations'],reverse=True)\n",
    "    if len(a)==0:\n",
    "        l.append(0)\n",
    "        continue\n",
    "    j = 0\n",
    "    for j in range(len(a)):\n",
    "        if a[j]>=j:\n",
    "            continue\n",
    "        else:\n",
    "            break\n",
    "    l.append(j)\n",
    "    \n",
    "d = {\n",
    "    'author_id':y,\n",
    "    'h_index':l\n",
    "}\n",
    "\n",
    "h_index = pd.DataFrame(d)"
   ]
  },
  {
   "cell_type": "code",
   "execution_count": 24,
   "metadata": {
    "collapsed": true
   },
   "outputs": [],
   "source": [
    "train = pd.merge(train,h_index)"
   ]
  },
  {
   "cell_type": "code",
   "execution_count": 25,
   "metadata": {
    "collapsed": true
   },
   "outputs": [],
   "source": [
    "ts = []\n",
    "for i in y:\n",
    "    l = first3[first3['author_id']==i]['team_size']\n",
    "    if len(l)==0:\n",
    "        ts.append(0)\n",
    "    else:\n",
    "        ts.append(np.mean(l))\n",
    "        \n",
    "d = {\n",
    "    'author_id':y,\n",
    "    'team_size':ts\n",
    "}\n",
    "\n",
    "ts = pd.DataFrame(d)\n",
    "train = pd.merge(train,ts)"
   ]
  },
  {
   "cell_type": "code",
   "execution_count": 26,
   "metadata": {
    "collapsed": true
   },
   "outputs": [],
   "source": [
    "degree_centrality = nx.degree_centrality(G)"
   ]
  },
  {
   "cell_type": "code",
   "execution_count": 27,
   "metadata": {
    "collapsed": true
   },
   "outputs": [],
   "source": [
    "deg = []\n",
    "for i in y:\n",
    "    try:\n",
    "        deg.append(degree_centrality[str(i)])\n",
    "    except:\n",
    "        deg.append(0)\n",
    "        \n",
    "d = {\n",
    "    'author_id':y,\n",
    "    'degree_centrality':deg\n",
    "}\n",
    "\n",
    "deg = pd.DataFrame(d)"
   ]
  },
  {
   "cell_type": "code",
   "execution_count": 28,
   "metadata": {
    "collapsed": true
   },
   "outputs": [],
   "source": [
    "train = pd.merge(train,deg)"
   ]
  },
  {
   "cell_type": "code",
   "execution_count": 29,
   "metadata": {},
   "outputs": [
    {
     "data": {
      "text/plain": [
       "(22828, 11)"
      ]
     },
     "execution_count": 29,
     "metadata": {},
     "output_type": "execute_result"
    }
   ],
   "source": [
    "train.shape"
   ]
  },
  {
   "cell_type": "code",
   "execution_count": 30,
   "metadata": {},
   "outputs": [
    {
     "data": {
      "text/plain": [
       "author_id             float64\n",
       "reviewer_diversity    float64\n",
       "citations             float64\n",
       "Sentiment             float64\n",
       "rounds                float64\n",
       "experience              int64\n",
       "editor_diversity      float64\n",
       "core                    int64\n",
       "h_index                 int64\n",
       "team_size             float64\n",
       "degree_centrality     float64\n",
       "dtype: object"
      ]
     },
     "execution_count": 30,
     "metadata": {},
     "output_type": "execute_result"
    }
   ],
   "source": [
    "train.dtypes"
   ]
  },
  {
   "cell_type": "code",
   "execution_count": 31,
   "metadata": {
    "collapsed": true
   },
   "outputs": [],
   "source": [
    "high = []\n",
    "with open('high_acceptance.txt') as infile:\n",
    "    for line in infile:\n",
    "        a = line.split(':')\n",
    "        high.append(int(a[0]))\n",
    "low = []\n",
    "with open('low_acceptance.txt') as infile:\n",
    "    for line in infile:\n",
    "        a = line.split(':')\n",
    "        low.append(int(a[0]))\n",
    "med = []\n",
    "with open('medium_acceptance.txt') as infile:\n",
    "    for line in infile:\n",
    "        a = line.split(':')\n",
    "        med.append(int(a[0]))\n",
    "l = []\n",
    "for i in y:\n",
    "    if i in high:\n",
    "        l.append(0)\n",
    "    elif i in med:\n",
    "        l.append(1)\n",
    "    elif i in low:\n",
    "        l.append(2)\n",
    "    else:\n",
    "        l.append(-1)\n",
    "        \n",
    "d = {\n",
    "    'author_id':y,\n",
    "    'Flag':l\n",
    "}\n",
    "\n",
    "flag = pd.DataFrame(d)\n",
    "train = pd.merge(train,flag)"
   ]
  },
  {
   "cell_type": "code",
   "execution_count": 32,
   "metadata": {},
   "outputs": [
    {
     "data": {
      "text/html": [
       "<div>\n",
       "<style>\n",
       "    .dataframe thead tr:only-child th {\n",
       "        text-align: right;\n",
       "    }\n",
       "\n",
       "    .dataframe thead th {\n",
       "        text-align: left;\n",
       "    }\n",
       "\n",
       "    .dataframe tbody tr th {\n",
       "        vertical-align: top;\n",
       "    }\n",
       "</style>\n",
       "<table border=\"1\" class=\"dataframe\">\n",
       "  <thead>\n",
       "    <tr style=\"text-align: right;\">\n",
       "      <th></th>\n",
       "      <th>author_id</th>\n",
       "      <th>reviewer_diversity</th>\n",
       "      <th>citations</th>\n",
       "      <th>Sentiment</th>\n",
       "      <th>rounds</th>\n",
       "      <th>experience</th>\n",
       "      <th>editor_diversity</th>\n",
       "      <th>core</th>\n",
       "      <th>h_index</th>\n",
       "      <th>team_size</th>\n",
       "      <th>degree_centrality</th>\n",
       "      <th>Flag</th>\n",
       "    </tr>\n",
       "  </thead>\n",
       "  <tbody>\n",
       "    <tr>\n",
       "      <th>0</th>\n",
       "      <td>13513.0</td>\n",
       "      <td>1.039721</td>\n",
       "      <td>45.600000</td>\n",
       "      <td>0.261923</td>\n",
       "      <td>1.400000</td>\n",
       "      <td>5</td>\n",
       "      <td>0.562335</td>\n",
       "      <td>27</td>\n",
       "      <td>4</td>\n",
       "      <td>3.200000</td>\n",
       "      <td>0.002023</td>\n",
       "      <td>0</td>\n",
       "    </tr>\n",
       "    <tr>\n",
       "      <th>1</th>\n",
       "      <td>21593.0</td>\n",
       "      <td>1.609438</td>\n",
       "      <td>5.142857</td>\n",
       "      <td>0.096623</td>\n",
       "      <td>2.000000</td>\n",
       "      <td>7</td>\n",
       "      <td>1.332179</td>\n",
       "      <td>21</td>\n",
       "      <td>4</td>\n",
       "      <td>2.857143</td>\n",
       "      <td>0.001715</td>\n",
       "      <td>0</td>\n",
       "    </tr>\n",
       "    <tr>\n",
       "      <th>2</th>\n",
       "      <td>4302.0</td>\n",
       "      <td>1.609438</td>\n",
       "      <td>36.285714</td>\n",
       "      <td>-0.560291</td>\n",
       "      <td>1.714286</td>\n",
       "      <td>7</td>\n",
       "      <td>0.500402</td>\n",
       "      <td>62</td>\n",
       "      <td>6</td>\n",
       "      <td>3.714286</td>\n",
       "      <td>0.005936</td>\n",
       "      <td>1</td>\n",
       "    </tr>\n",
       "    <tr>\n",
       "      <th>3</th>\n",
       "      <td>8587.0</td>\n",
       "      <td>2.079442</td>\n",
       "      <td>34.000000</td>\n",
       "      <td>0.110877</td>\n",
       "      <td>4.533333</td>\n",
       "      <td>15</td>\n",
       "      <td>1.351784</td>\n",
       "      <td>46</td>\n",
       "      <td>14</td>\n",
       "      <td>2.666667</td>\n",
       "      <td>0.006551</td>\n",
       "      <td>0</td>\n",
       "    </tr>\n",
       "    <tr>\n",
       "      <th>4</th>\n",
       "      <td>3937.0</td>\n",
       "      <td>1.791759</td>\n",
       "      <td>91.888889</td>\n",
       "      <td>-0.266325</td>\n",
       "      <td>1.666667</td>\n",
       "      <td>9</td>\n",
       "      <td>1.560710</td>\n",
       "      <td>67</td>\n",
       "      <td>8</td>\n",
       "      <td>2.000000</td>\n",
       "      <td>0.009805</td>\n",
       "      <td>0</td>\n",
       "    </tr>\n",
       "  </tbody>\n",
       "</table>\n",
       "</div>"
      ],
      "text/plain": [
       "   author_id  reviewer_diversity  citations  Sentiment    rounds  experience  \\\n",
       "0    13513.0            1.039721  45.600000   0.261923  1.400000           5   \n",
       "1    21593.0            1.609438   5.142857   0.096623  2.000000           7   \n",
       "2     4302.0            1.609438  36.285714  -0.560291  1.714286           7   \n",
       "3     8587.0            2.079442  34.000000   0.110877  4.533333          15   \n",
       "4     3937.0            1.791759  91.888889  -0.266325  1.666667           9   \n",
       "\n",
       "   editor_diversity  core  h_index  team_size  degree_centrality  Flag  \n",
       "0          0.562335    27        4   3.200000           0.002023     0  \n",
       "1          1.332179    21        4   2.857143           0.001715     0  \n",
       "2          0.500402    62        6   3.714286           0.005936     1  \n",
       "3          1.351784    46       14   2.666667           0.006551     0  \n",
       "4          1.560710    67        8   2.000000           0.009805     0  "
      ]
     },
     "execution_count": 32,
     "metadata": {},
     "output_type": "execute_result"
    }
   ],
   "source": [
    "train.head()"
   ]
  },
  {
   "cell_type": "code",
   "execution_count": 33,
   "metadata": {
    "collapsed": true
   },
   "outputs": [],
   "source": [
    "train = train[train['Flag']!=-1]"
   ]
  },
  {
   "cell_type": "code",
   "execution_count": 34,
   "metadata": {
    "collapsed": true
   },
   "outputs": [],
   "source": [
    "pr = pd.read_csv('pagerankfirst3.csv')\n",
    "pr.columns = ['author_id','pagerank']\n",
    "d = dict(zip(pr['author_id'], pr['pagerank']))\n",
    "\n",
    "l = []\n",
    "for i in y:\n",
    "    try:\n",
    "        l.append(d[i])\n",
    "    except:\n",
    "        l.append(0)\n",
    "        \n",
    "d = {\n",
    "    'author_id':y,\n",
    "    'pagerank':l\n",
    "}\n",
    "\n",
    "pr = pd.DataFrame(d)\n",
    "train = pd.merge(train,pr)"
   ]
  },
  {
   "cell_type": "code",
   "execution_count": 35,
   "metadata": {
    "collapsed": true
   },
   "outputs": [],
   "source": [
    "deg_cocit = pd.read_csv('degree_centrality_cocitation_first3.csv')\n",
    "deg_cocit.columns = ['author_id','deg_cen_cocit']\n",
    "d = dict(zip(deg_cocit['author_id'], deg_cocit['deg_cen_cocit']))\n",
    "\n",
    "l = []\n",
    "for i in y:\n",
    "    try:\n",
    "        l.append(d[i])\n",
    "    except:\n",
    "        l.append(0)\n",
    "        \n",
    "d = {\n",
    "    'author_id':y,\n",
    "    'deg_cen_cocit':l\n",
    "}\n",
    "\n",
    "deg_cocit = pd.DataFrame(d)\n",
    "\n",
    "train = pd.merge(train,deg_cocit)"
   ]
  },
  {
   "cell_type": "code",
   "execution_count": 36,
   "metadata": {
    "collapsed": true
   },
   "outputs": [],
   "source": [
    "recip = pd.read_csv('reciprocityfirst3.csv')\n",
    "recip.columns = ['author_id','reciprocity']\n",
    "\n",
    "d = dict(zip(recip['author_id'], recip['reciprocity']))\n",
    "\n",
    "l = []\n",
    "for i in y:\n",
    "    try:\n",
    "        l.append(d[i])\n",
    "    except:\n",
    "        l.append(0)\n",
    "        \n",
    "d = {\n",
    "    'author_id':y,\n",
    "    'reciprocity':l\n",
    "}\n",
    "\n",
    "recip = pd.DataFrame(d)\n",
    "\n",
    "\n",
    "train = pd.merge(train,recip)"
   ]
  },
  {
   "cell_type": "code",
   "execution_count": 37,
   "metadata": {},
   "outputs": [
    {
     "data": {
      "text/plain": [
       "(21794, 15)"
      ]
     },
     "execution_count": 37,
     "metadata": {},
     "output_type": "execute_result"
    }
   ],
   "source": [
    "train.shape"
   ]
  },
  {
   "cell_type": "code",
   "execution_count": 38,
   "metadata": {
    "collapsed": true
   },
   "outputs": [],
   "source": [
    "recip = pd.read_csv('betweenness_centrality_cocitfirst3.csv')\n",
    "recip.columns = ['author_id','betweenness_centrality_cocit']\n",
    "\n",
    "d = dict(zip(recip['author_id'], recip['betweenness_centrality_cocit']))\n",
    "\n",
    "l = []\n",
    "for i in y:\n",
    "    try:\n",
    "        l.append(d[i])\n",
    "    except:\n",
    "        l.append(0)\n",
    "        \n",
    "d = {\n",
    "    'author_id':y,\n",
    "    'betweenness_centrality_cocit':l\n",
    "}\n",
    "\n",
    "bc_coci = pd.DataFrame(d)\n",
    "\n",
    "\n",
    "train = pd.merge(train,bc_coci)"
   ]
  },
  {
   "cell_type": "code",
   "execution_count": 39,
   "metadata": {
    "collapsed": true
   },
   "outputs": [],
   "source": [
    "recip = pd.read_csv('clustering_coeff_cocitfirst3.csv')\n",
    "recip.columns = ['author_id','clustering_coeff_cocit']\n",
    "\n",
    "d = dict(zip(recip['author_id'], recip['clustering_coeff_cocit']))\n",
    "\n",
    "l = []\n",
    "for i in y:\n",
    "    try:\n",
    "        l.append(d[i])\n",
    "    except:\n",
    "        l.append(0)\n",
    "        \n",
    "d = {\n",
    "    'author_id':y,\n",
    "    'clustering_coeff_cocit':l\n",
    "}\n",
    "\n",
    "cc_coci = pd.DataFrame(d)\n",
    "\n",
    "\n",
    "train = pd.merge(train,cc_coci)"
   ]
  },
  {
   "cell_type": "code",
   "execution_count": 40,
   "metadata": {
    "collapsed": true
   },
   "outputs": [],
   "source": [
    "recip = pd.read_csv('closeness_centrality_cocitfirst3.csv')\n",
    "recip.columns = ['author_id','closeness_centrality_cocit']\n",
    "\n",
    "d = dict(zip(recip['author_id'], recip['closeness_centrality_cocit']))\n",
    "\n",
    "l = []\n",
    "for i in y:\n",
    "    try:\n",
    "        l.append(d[i])\n",
    "    except:\n",
    "        l.append(0)\n",
    "        \n",
    "d = {\n",
    "    'author_id':y,\n",
    "    'closeness_centrality_cocit':l\n",
    "}\n",
    "\n",
    "clc_coci = pd.DataFrame(d)\n",
    "\n",
    "\n",
    "train = pd.merge(train,clc_coci)"
   ]
  },
  {
   "cell_type": "code",
   "execution_count": 41,
   "metadata": {
    "collapsed": true
   },
   "outputs": [],
   "source": [
    "recip = pd.read_csv('pagerankcocitfirst3.csv')\n",
    "recip.columns = ['author_id','pagerankcocit']\n",
    "\n",
    "d = dict(zip(recip['author_id'], recip['pagerankcocit']))\n",
    "\n",
    "l = []\n",
    "for i in y:\n",
    "    try:\n",
    "        l.append(d[i])\n",
    "    except:\n",
    "        l.append(0)\n",
    "        \n",
    "d = {\n",
    "    'author_id':y,\n",
    "    'pagerankcocit':l\n",
    "}\n",
    "\n",
    "pr_coci = pd.DataFrame(d)\n",
    "\n",
    "\n",
    "train = pd.merge(train,pr_coci)"
   ]
  },
  {
   "cell_type": "code",
   "execution_count": 42,
   "metadata": {},
   "outputs": [
    {
     "data": {
      "text/plain": [
       "(21794, 19)"
      ]
     },
     "execution_count": 42,
     "metadata": {},
     "output_type": "execute_result"
    }
   ],
   "source": [
    "train.shape"
   ]
  },
  {
   "cell_type": "code",
   "execution_count": 43,
   "metadata": {},
   "outputs": [
    {
     "data": {
      "text/html": [
       "<div>\n",
       "<style>\n",
       "    .dataframe thead tr:only-child th {\n",
       "        text-align: right;\n",
       "    }\n",
       "\n",
       "    .dataframe thead th {\n",
       "        text-align: left;\n",
       "    }\n",
       "\n",
       "    .dataframe tbody tr th {\n",
       "        vertical-align: top;\n",
       "    }\n",
       "</style>\n",
       "<table border=\"1\" class=\"dataframe\">\n",
       "  <thead>\n",
       "    <tr style=\"text-align: right;\">\n",
       "      <th></th>\n",
       "      <th>author_id</th>\n",
       "      <th>reviewer_diversity</th>\n",
       "      <th>citations</th>\n",
       "      <th>Sentiment</th>\n",
       "      <th>rounds</th>\n",
       "      <th>experience</th>\n",
       "      <th>editor_diversity</th>\n",
       "      <th>core</th>\n",
       "      <th>h_index</th>\n",
       "      <th>team_size</th>\n",
       "      <th>degree_centrality</th>\n",
       "      <th>Flag</th>\n",
       "      <th>pagerank</th>\n",
       "      <th>deg_cen_cocit</th>\n",
       "      <th>reciprocity</th>\n",
       "      <th>betweenness_centrality_cocit</th>\n",
       "      <th>clustering_coeff_cocit</th>\n",
       "      <th>closeness_centrality_cocit</th>\n",
       "      <th>pagerankcocit</th>\n",
       "    </tr>\n",
       "  </thead>\n",
       "  <tbody>\n",
       "    <tr>\n",
       "      <th>0</th>\n",
       "      <td>13513.0</td>\n",
       "      <td>1.039721</td>\n",
       "      <td>45.600000</td>\n",
       "      <td>0.261923</td>\n",
       "      <td>1.400000</td>\n",
       "      <td>5</td>\n",
       "      <td>0.562335</td>\n",
       "      <td>27</td>\n",
       "      <td>4</td>\n",
       "      <td>3.200000</td>\n",
       "      <td>0.002023</td>\n",
       "      <td>0</td>\n",
       "      <td>0.000048</td>\n",
       "      <td>0.013203</td>\n",
       "      <td>0.146552</td>\n",
       "      <td>0.000035</td>\n",
       "      <td>0.342857</td>\n",
       "      <td>0.260422</td>\n",
       "      <td>0.000058</td>\n",
       "    </tr>\n",
       "    <tr>\n",
       "      <th>1</th>\n",
       "      <td>21593.0</td>\n",
       "      <td>1.609438</td>\n",
       "      <td>5.142857</td>\n",
       "      <td>0.096623</td>\n",
       "      <td>2.000000</td>\n",
       "      <td>7</td>\n",
       "      <td>1.332179</td>\n",
       "      <td>21</td>\n",
       "      <td>4</td>\n",
       "      <td>2.857143</td>\n",
       "      <td>0.001715</td>\n",
       "      <td>0</td>\n",
       "      <td>0.000058</td>\n",
       "      <td>0.006146</td>\n",
       "      <td>0.222222</td>\n",
       "      <td>0.000000</td>\n",
       "      <td>0.000000</td>\n",
       "      <td>0.000000</td>\n",
       "      <td>0.000019</td>\n",
       "    </tr>\n",
       "    <tr>\n",
       "      <th>2</th>\n",
       "      <td>4302.0</td>\n",
       "      <td>1.609438</td>\n",
       "      <td>36.285714</td>\n",
       "      <td>-0.560291</td>\n",
       "      <td>1.714286</td>\n",
       "      <td>7</td>\n",
       "      <td>0.500402</td>\n",
       "      <td>62</td>\n",
       "      <td>6</td>\n",
       "      <td>3.714286</td>\n",
       "      <td>0.005936</td>\n",
       "      <td>1</td>\n",
       "      <td>0.000111</td>\n",
       "      <td>0.026576</td>\n",
       "      <td>0.256959</td>\n",
       "      <td>0.005663</td>\n",
       "      <td>0.178795</td>\n",
       "      <td>0.300457</td>\n",
       "      <td>0.000178</td>\n",
       "    </tr>\n",
       "    <tr>\n",
       "      <th>3</th>\n",
       "      <td>8587.0</td>\n",
       "      <td>2.079442</td>\n",
       "      <td>34.000000</td>\n",
       "      <td>0.110877</td>\n",
       "      <td>4.533333</td>\n",
       "      <td>15</td>\n",
       "      <td>1.351784</td>\n",
       "      <td>46</td>\n",
       "      <td>14</td>\n",
       "      <td>2.666667</td>\n",
       "      <td>0.006551</td>\n",
       "      <td>0</td>\n",
       "      <td>0.000137</td>\n",
       "      <td>0.020373</td>\n",
       "      <td>0.324022</td>\n",
       "      <td>0.000751</td>\n",
       "      <td>0.199405</td>\n",
       "      <td>0.275138</td>\n",
       "      <td>0.000178</td>\n",
       "    </tr>\n",
       "    <tr>\n",
       "      <th>4</th>\n",
       "      <td>3937.0</td>\n",
       "      <td>1.791759</td>\n",
       "      <td>91.888889</td>\n",
       "      <td>-0.266325</td>\n",
       "      <td>1.666667</td>\n",
       "      <td>9</td>\n",
       "      <td>1.560710</td>\n",
       "      <td>67</td>\n",
       "      <td>8</td>\n",
       "      <td>2.000000</td>\n",
       "      <td>0.009805</td>\n",
       "      <td>0</td>\n",
       "      <td>0.000170</td>\n",
       "      <td>0.025893</td>\n",
       "      <td>0.263736</td>\n",
       "      <td>0.001948</td>\n",
       "      <td>0.135690</td>\n",
       "      <td>0.286803</td>\n",
       "      <td>0.000317</td>\n",
       "    </tr>\n",
       "  </tbody>\n",
       "</table>\n",
       "</div>"
      ],
      "text/plain": [
       "   author_id  reviewer_diversity  citations  Sentiment    rounds  experience  \\\n",
       "0    13513.0            1.039721  45.600000   0.261923  1.400000           5   \n",
       "1    21593.0            1.609438   5.142857   0.096623  2.000000           7   \n",
       "2     4302.0            1.609438  36.285714  -0.560291  1.714286           7   \n",
       "3     8587.0            2.079442  34.000000   0.110877  4.533333          15   \n",
       "4     3937.0            1.791759  91.888889  -0.266325  1.666667           9   \n",
       "\n",
       "   editor_diversity  core  h_index  team_size  degree_centrality  Flag  \\\n",
       "0          0.562335    27        4   3.200000           0.002023     0   \n",
       "1          1.332179    21        4   2.857143           0.001715     0   \n",
       "2          0.500402    62        6   3.714286           0.005936     1   \n",
       "3          1.351784    46       14   2.666667           0.006551     0   \n",
       "4          1.560710    67        8   2.000000           0.009805     0   \n",
       "\n",
       "   pagerank  deg_cen_cocit  reciprocity  betweenness_centrality_cocit  \\\n",
       "0  0.000048       0.013203     0.146552                      0.000035   \n",
       "1  0.000058       0.006146     0.222222                      0.000000   \n",
       "2  0.000111       0.026576     0.256959                      0.005663   \n",
       "3  0.000137       0.020373     0.324022                      0.000751   \n",
       "4  0.000170       0.025893     0.263736                      0.001948   \n",
       "\n",
       "   clustering_coeff_cocit  closeness_centrality_cocit  pagerankcocit  \n",
       "0                0.342857                    0.260422       0.000058  \n",
       "1                0.000000                    0.000000       0.000019  \n",
       "2                0.178795                    0.300457       0.000178  \n",
       "3                0.199405                    0.275138       0.000178  \n",
       "4                0.135690                    0.286803       0.000317  "
      ]
     },
     "execution_count": 43,
     "metadata": {},
     "output_type": "execute_result"
    }
   ],
   "source": [
    "train.head()"
   ]
  },
  {
   "cell_type": "code",
   "execution_count": 44,
   "metadata": {
    "collapsed": true
   },
   "outputs": [],
   "source": [
    "\n",
    "X = train.drop(['author_id','Flag','rounds'],axis=1)\n",
    "y = train['Flag']"
   ]
  },
  {
   "cell_type": "code",
   "execution_count": 2,
   "metadata": {},
   "outputs": [
    {
     "name": "stderr",
     "output_type": "stream",
     "text": [
      "C:\\ProgramData\\Anaconda2\\lib\\site-packages\\sklearn\\ensemble\\weight_boosting.py:29: DeprecationWarning:\n",
      "\n",
      "numpy.core.umath_tests is an internal NumPy module and should not be imported. It will be removed in a future NumPy release.\n",
      "\n"
     ]
    }
   ],
   "source": [
    "import json\n",
    "import lightgbm as lgb\n",
    "import pandas as pd\n",
    "from sklearn.metrics import roc_auc_score\n",
    "import xgboost as xgb\n",
    "from sklearn.ensemble import RandomForestClassifier"
   ]
  },
  {
   "cell_type": "code",
   "execution_count": 45,
   "metadata": {
    "collapsed": true
   },
   "outputs": [],
   "source": [
    "from sklearn.metrics import f1_score"
   ]
  },
  {
   "cell_type": "code",
   "execution_count": 46,
   "metadata": {
    "collapsed": true
   },
   "outputs": [],
   "source": [
    "from sklearn.model_selection import StratifiedKFold\n",
    "skf = StratifiedKFold(n_splits=5, random_state=43,shuffle=True)\n"
   ]
  },
  {
   "cell_type": "code",
   "execution_count": 47,
   "metadata": {
    "collapsed": true
   },
   "outputs": [],
   "source": [
    "from sklearn.metrics import confusion_matrix"
   ]
  },
  {
   "cell_type": "code",
   "execution_count": 48,
   "metadata": {
    "collapsed": true
   },
   "outputs": [],
   "source": [
    "para ={\n",
    "    'colsample_bytree': 0.9,\n",
    "    'learning_rate': 0.12,\n",
    "    'max_depth': 30,\n",
    "    'min_child_weight': 3,\n",
    "    'n_estimators': 1000,\n",
    "    'n_jobs': -1,\n",
    "    'objective': 'multi:softmax',\n",
    "    'num_class':3,\n",
    "    'seed': 1337,\n",
    "    'silent': 0,\n",
    "    'subsample': 0.9,\n",
    "    'eval_metric' : 'map' ,\n",
    "    \n",
    "    }"
   ]
  },
  {
   "cell_type": "code",
   "execution_count": 49,
   "metadata": {
    "collapsed": true
   },
   "outputs": [],
   "source": [
    "X_tr , X_te , y_tr , y_te = train_test_split(X,y,test_size=0.2,random_state = 10)"
   ]
  },
  {
   "cell_type": "code",
   "execution_count": 50,
   "metadata": {},
   "outputs": [],
   "source": [
    "dtrain = xgb.DMatrix(X_tr, label=y_tr)\n",
    "dtest = xgb.DMatrix(X_te)\n",
    "bst = xgb.train(para, dtrain,15)\n"
   ]
  },
  {
   "cell_type": "code",
   "execution_count": 51,
   "metadata": {
    "collapsed": true
   },
   "outputs": [],
   "source": [
    "pred = bst.predict(dtest)"
   ]
  },
  {
   "cell_type": "code",
   "execution_count": 52,
   "metadata": {
    "collapsed": true
   },
   "outputs": [],
   "source": [
    "cm = confusion_matrix(y_te, pred)"
   ]
  },
  {
   "cell_type": "code",
   "execution_count": 53,
   "metadata": {},
   "outputs": [
    {
     "data": {
      "text/plain": [
       "array([[ 445,  231,   23],\n",
       "       [  98, 1701,  185],\n",
       "       [  19,  230, 1427]], dtype=int64)"
      ]
     },
     "execution_count": 53,
     "metadata": {},
     "output_type": "execute_result"
    }
   ],
   "source": [
    "cm"
   ]
  },
  {
   "cell_type": "code",
   "execution_count": 54,
   "metadata": {
    "collapsed": true
   },
   "outputs": [],
   "source": [
    "recall = np.diag(cm).astype(float) / np.sum(cm, axis = 1)"
   ]
  },
  {
   "cell_type": "code",
   "execution_count": 55,
   "metadata": {},
   "outputs": [
    {
     "data": {
      "text/plain": [
       "array([0.63662375, 0.85735887, 0.85143198])"
      ]
     },
     "execution_count": 55,
     "metadata": {},
     "output_type": "execute_result"
    }
   ],
   "source": [
    "recall"
   ]
  },
  {
   "cell_type": "code",
   "execution_count": 56,
   "metadata": {
    "collapsed": true
   },
   "outputs": [],
   "source": [
    "precision = np.diag(cm).astype(float) / np.sum(cm, axis = 0)"
   ]
  },
  {
   "cell_type": "code",
   "execution_count": 57,
   "metadata": {},
   "outputs": [
    {
     "data": {
      "text/plain": [
       "array([0.79181495, 0.78677151, 0.87278287])"
      ]
     },
     "execution_count": 57,
     "metadata": {},
     "output_type": "execute_result"
    }
   ],
   "source": [
    "precision"
   ]
  },
  {
   "cell_type": "code",
   "execution_count": 58,
   "metadata": {
    "collapsed": true
   },
   "outputs": [],
   "source": [
    "test = pd.read_csv(\"Test_category.csv\")"
   ]
  },
  {
   "cell_type": "code",
   "execution_count": 59,
   "metadata": {
    "collapsed": true
   },
   "outputs": [],
   "source": [
    "values = test['Flag']"
   ]
  },
  {
   "cell_type": "code",
   "execution_count": 60,
   "metadata": {
    "collapsed": true
   },
   "outputs": [],
   "source": [
    "test.drop(['author_id','Flag','rounds'],axis=1,inplace=True)"
   ]
  },
  {
   "cell_type": "code",
   "execution_count": 61,
   "metadata": {
    "collapsed": true
   },
   "outputs": [],
   "source": [
    "dtrain = xgb.DMatrix(X, label=y)\n",
    "dtest = xgb.DMatrix(test)\n",
    "bst = xgb.train(para, dtrain,15)\n"
   ]
  },
  {
   "cell_type": "code",
   "execution_count": 62,
   "metadata": {
    "collapsed": true
   },
   "outputs": [],
   "source": [
    "pred = bst.predict(dtest)"
   ]
  },
  {
   "cell_type": "code",
   "execution_count": 63,
   "metadata": {},
   "outputs": [
    {
     "data": {
      "text/plain": [
       "0.8629898137101955"
      ]
     },
     "execution_count": 63,
     "metadata": {},
     "output_type": "execute_result"
    }
   ],
   "source": [
    "f1_score(values,pred,average='micro')"
   ]
  },
  {
   "cell_type": "code",
   "execution_count": 64,
   "metadata": {},
   "outputs": [
    {
     "data": {
      "text/plain": [
       "array([[2569,  801,  144],\n",
       "       [ 629, 8792,  465],\n",
       "       [  34,  913, 7447]], dtype=int64)"
      ]
     },
     "execution_count": 64,
     "metadata": {},
     "output_type": "execute_result"
    }
   ],
   "source": [
    "cm = confusion_matrix(values, pred)\n",
    "cm"
   ]
  },
  {
   "cell_type": "code",
   "execution_count": 65,
   "metadata": {},
   "outputs": [
    {
     "data": {
      "text/plain": [
       "array([0.7310757 , 0.88933846, 0.88718132])"
      ]
     },
     "execution_count": 65,
     "metadata": {},
     "output_type": "execute_result"
    }
   ],
   "source": [
    "recall = np.diag(cm).astype(float) / np.sum(cm, axis = 1)\n",
    "recall"
   ]
  },
  {
   "cell_type": "code",
   "execution_count": 66,
   "metadata": {},
   "outputs": [
    {
     "data": {
      "text/plain": [
       "array([0.79486386, 0.83685513, 0.92440417])"
      ]
     },
     "execution_count": 66,
     "metadata": {},
     "output_type": "execute_result"
    }
   ],
   "source": [
    "precision = np.diag(cm).astype(float) / np.sum(cm, axis = 0)\n",
    "precision"
   ]
  },
  {
   "cell_type": "code",
   "execution_count": 67,
   "metadata": {
    "collapsed": true
   },
   "outputs": [],
   "source": [
    "feature_imp = bst.get_score(importance_type='gain')"
   ]
  },
  {
   "cell_type": "code",
   "execution_count": 68,
   "metadata": {
    "collapsed": true
   },
   "outputs": [],
   "source": [
    "feature_imp = sorted(feature_imp.items(), key=operator.itemgetter(1),reverse=True)"
   ]
  },
  {
   "cell_type": "code",
   "execution_count": 69,
   "metadata": {
    "collapsed": true
   },
   "outputs": [],
   "source": [
    "from collections import OrderedDict"
   ]
  },
  {
   "cell_type": "code",
   "execution_count": 70,
   "metadata": {
    "collapsed": true
   },
   "outputs": [],
   "source": [
    "feature_imp = OrderedDict(feature_imp)"
   ]
  },
  {
   "cell_type": "code",
   "execution_count": 71,
   "metadata": {},
   "outputs": [
    {
     "data": {
      "image/png": "[encoded data removed]",
      "text/plain": [
       "<matplotlib.figure.Figure at 0x1bde3ef0>"
      ]
     },
     "metadata": {},
     "output_type": "display_data"
    }
   ],
   "source": [
    "plt.figure(figsize=(25,10))\n",
    "plt.bar(range(len(feature_imp)), feature_imp.values(), align='center')\n",
    "plt.xticks(range(len(feature_imp)), list(feature_imp.keys()),fontsize = 15,rotation = 90)\n",
    "plt.ylabel('Feature Importance',fontsize= 15)\n",
    "plt.title('Feature Importance according to the model',fontsize= 20)\n",
    "\n",
    "plt.show()"
   ]
  },
  {
   "cell_type": "code",
   "execution_count": 80,
   "metadata": {},
   "outputs": [],
   "source": [
    "d = {\n",
    "    'Features' : feature_imp.keys(),\n",
    "    'Importance' : feature_imp.values()\n",
    "}\n",
    "df = pd.DataFrame(d)\n",
    "df.to_csv('Feature_Importance_Xgb.csv',index=False)"
   ]
  },
  {
   "cell_type": "code",
   "execution_count": 53,
   "metadata": {
    "collapsed": true
   },
   "outputs": [],
   "source": [
    "from sklearn.ensemble import RandomForestClassifier"
   ]
  },
  {
   "cell_type": "code",
   "execution_count": 54,
   "metadata": {},
   "outputs": [
    {
     "data": {
      "text/plain": [
       "RandomForestClassifier(bootstrap=True, class_weight=None, criterion='entropy',\n",
       "            max_depth=25, max_features='auto', max_leaf_nodes=None,\n",
       "            min_impurity_decrease=0.0, min_impurity_split=None,\n",
       "            min_samples_leaf=1, min_samples_split=2,\n",
       "            min_weight_fraction_leaf=0.0, n_estimators=100, n_jobs=-1,\n",
       "            oob_score=False, random_state=42, verbose=0, warm_start=False)"
      ]
     },
     "execution_count": 54,
     "metadata": {},
     "output_type": "execute_result"
    }
   ],
   "source": [
    "classifier = RandomForestClassifier(n_estimators = 100,max_depth=25,n_jobs=-1, criterion = 'entropy', random_state = 42)\n",
    "classifier.fit(X, y)"
   ]
  },
  {
   "cell_type": "code",
   "execution_count": 60,
   "metadata": {
    "collapsed": true
   },
   "outputs": [],
   "source": [
    "y_pred = classifier.predict(test)"
   ]
  },
  {
   "cell_type": "code",
   "execution_count": 61,
   "metadata": {},
   "outputs": [
    {
     "data": {
      "text/plain": [
       "array([[2889,  527,   98],\n",
       "       [ 604, 9006,  276],\n",
       "       [  20,  727, 7647]], dtype=int64)"
      ]
     },
     "execution_count": 61,
     "metadata": {},
     "output_type": "execute_result"
    }
   ],
   "source": [
    "cm = confusion_matrix(values, y_pred)\n",
    "cm"
   ]
  },
  {
   "cell_type": "code",
   "execution_count": 62,
   "metadata": {},
   "outputs": [
    {
     "data": {
      "text/plain": [
       "array([0.82214001, 0.91098523, 0.91100786])"
      ]
     },
     "execution_count": 62,
     "metadata": {},
     "output_type": "execute_result"
    }
   ],
   "source": [
    "recall = np.diag(cm).astype(float) / np.sum(cm, axis = 1)\n",
    "recall"
   ]
  },
  {
   "cell_type": "code",
   "execution_count": 63,
   "metadata": {},
   "outputs": [
    {
     "data": {
      "text/plain": [
       "array([0.82237404, 0.87777778, 0.9533724 ])"
      ]
     },
     "execution_count": 63,
     "metadata": {},
     "output_type": "execute_result"
    }
   ],
   "source": [
    "precision = np.diag(cm).astype(float) / np.sum(cm, axis = 0)\n",
    "precision"
   ]
  },
  {
   "cell_type": "code",
   "execution_count": 64,
   "metadata": {},
   "outputs": [
    {
     "data": {
      "text/plain": [
       "0.8966688079287877"
      ]
     },
     "execution_count": 64,
     "metadata": {},
     "output_type": "execute_result"
    }
   ],
   "source": [
    "f1_score(values,y_pred,average='micro')"
   ]
  },
  {
   "cell_type": "code",
   "execution_count": 65,
   "metadata": {
    "collapsed": true
   },
   "outputs": [],
   "source": [
    "d = dict(zip(X.columns, classifier.feature_importances_))"
   ]
  },
  {
   "cell_type": "code",
   "execution_count": 66,
   "metadata": {
    "collapsed": true
   },
   "outputs": [],
   "source": [
    "feature_imp = sorted(d.items(), key=operator.itemgetter(1),reverse=True)"
   ]
  },
  {
   "cell_type": "code",
   "execution_count": 67,
   "metadata": {
    "collapsed": true
   },
   "outputs": [],
   "source": [
    "feature_imp = pd.DataFrame(feature_imp)"
   ]
  },
  {
   "cell_type": "code",
   "execution_count": 68,
   "metadata": {
    "collapsed": true
   },
   "outputs": [],
   "source": [
    "feature_imp.to_csv('Feature_Importance.csv',index=False)"
   ]
  },
  {
   "cell_type": "code",
   "execution_count": 89,
   "metadata": {},
   "outputs": [
    {
     "data": {
      "image/png": "[encoded data removed]",
      "text/plain": [
       "<matplotlib.figure.Figure at 0xa4c4c048>"
      ]
     },
     "metadata": {},
     "output_type": "display_data"
    }
   ],
   "source": [
    "plt.figure(figsize=(25,10))\n",
    "feat_importances = pd.Series(classifier.feature_importances_, index=X.columns)\n",
    "feat_importances.nlargest(15).plot(kind='barh',fontsize=15)\n",
    "plt.ylabel('Feature Importance',fontsize= 15)\n",
    "plt.title('Feature Importance according to the model',fontsize= 15)\n",
    "\n",
    "plt.show()"
   ]
  },
  {
   "cell_type": "code",
   "execution_count": null,
   "metadata": {
    "collapsed": true
   },
   "outputs": [],
   "source": []
  }
 ],
 "metadata": {
  "kernelspec": {
   "display_name": "Python 3",
   "language": "python",
   "name": "python3"
  },
  "language_info": {
   "codemirror_mode": {
    "name": "ipython",
    "version": 3
   },
   "file_extension": ".py",
   "mimetype": "text/x-python",
   "name": "python",
   "nbconvert_exporter": "python",
   "pygments_lexer": "ipython3",
   "version": "3.8.3"
  }
 },
 "nbformat": 4,
 "nbformat_minor": 2
}
